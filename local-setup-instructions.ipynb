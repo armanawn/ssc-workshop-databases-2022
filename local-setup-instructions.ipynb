{
 "cells": [
  {
   "cell_type": "markdown",
   "id": "981a2b0b-f032-443a-98a9-209326101175",
   "metadata": {
    "tags": []
   },
   "source": [
    "# Instructions for using databases locally"
   ]
  },
  {
   "cell_type": "markdown",
   "id": "c76d1302-02b6-45c2-bd51-1feee8fe92f9",
   "metadata": {
    "jp-MarkdownHeadingCollapsed": true,
    "tags": []
   },
   "source": [
    "It's not that you'll always only use remote databases, sometimes you may have local databases on the local Postgres server which is installed on your own computer. In the `databases/` folder of this repo, we have also provided the [**dump files**](https://www.postgresql.org/docs/current/backup-dump.html) for the `world` and `imdb` databases, so that you can locally recreate the databases we used during the workshop and practice with them. In order to load and use these databases locally, go through the following steps.\n",
    "\n",
    "Suppose that you want to recreate the `world` database on your own computer:\n",
    "\n",
    "- Download and install PostgreSQL [here](https://www.postgresql.org/download/):\n",
    "  - This will provide a local instance of the Postgres database management system (DBMS) that runs on your own computer (instead of a remote server).\n",
    "  - It will also install an application called **pgAdmin**, which is a GUI for interacting with the DBMS.\n",
    "  - During the installation, you'll be asked for a password. This is the password associated with an admin username called `postgres`. Make sure that you save this password somewhere, because if you lose it, you'll have to re-install Postgres to be able to access your local instance.\n",
    "\n",
    "- Open pgAdmin. In the left-hand side browser, you'll see a server called `PostgreSQL 14` (or sometimes `localhost`). Double click on that to open it. Here is an image of what the pgAdmin window looks like:\n",
    "\n",
    "<img src=\"img/pgadmin1.png\" width=\"500\"/>\n",
    "\n",
    "- Now you should see a list of local databases, which at this point should only be `postgres`. Right-click on the `Databases`, then choose `Create => Database...`.\n",
    "\n",
    "<img src=\"img/pgadmin2.png\" width=\"500\"/>\n",
    "\n",
    "- In the opened window, you'll see options for database creation. In the `Database` field, type `world` as its name. It is not required to use this particular name, but to be consistent with the names used on the remote server, this is the better thing to do.\n",
    "\n",
    "- Click `Save`. The database is now created.\n",
    "\n",
    "Now you should restore the `world` database using the dump file:\n",
    "\n",
    "- Clone the workshop repo on your own computer, so that you have access to the dump files locally.\n",
    "\n",
    "- In pgAdmin, right-click on your newly created `world` database, and choose `Restore...`.\n",
    "\n",
    "- In the window that opens, click on the folder icon in front of the `Filename` field. Navigate to the `databases/` folder in the cloned repo on your computer, and choose `world.dump`. Now click `Restore`.\n",
    "\n",
    "<img src=\"img/pgadmin3.png\" width=\"500\"/>\n",
    "\n",
    "- You should see a success message on the bottom right of the pgAdmin window like this one:\n",
    "\n",
    "<img src=\"img/pgadmin4.png\" width=\"500\"/>\n",
    "\n",
    "- Viola! You have now loaded the database locally on the Postgres server on your own computer."
   ]
  },
  {
   "cell_type": "markdown",
   "id": "8d284b72-e3f6-4c42-a70e-611a292ebd02",
   "metadata": {
    "jp-MarkdownHeadingCollapsed": true,
    "tags": []
   },
   "source": [
    "If you connect to databases on your own computer, you need to use the following information:\n",
    "- `username`: `postgres`\n",
    "- `password`: the password that you have set up for the admin user `postgres` during the installation of Postgres\n",
    "- `host`: `localhost`\n",
    "- `port`: `5432`\n",
    "\n",
    "The following code cells are provided so that you can test your local connection and run a simple SQL query to see if everything is working properly."
   ]
  },
  {
   "cell_type": "markdown",
   "id": "4cc62e50-e228-4bcc-ab67-cd8769c52ea1",
   "metadata": {},
   "source": [
    "<div class=\"alert alert-warning\" style=\"color:black\">\n",
    "\n",
    "**Don't forget that you should never put sensitive information (e.g., username or password) directly inside a notebook or code script.**\n",
    "    \n",
    "This is because you might accidentally commit and push your files to a remote repo, which makes your information accessible to everyone. The following code cell is just for a quick check and practice. Otherwise, you should always save your login credentials in a separate file, which you add to your `.gitignore` file to prevent accidental committing and pushing, and then load the needed information into your Python environment by reading that file."
   ]
  },
  {
   "cell_type": "code",
   "execution_count": null,
   "id": "0b54193a-559a-4b0e-8a3f-1c2a51a02c4b",
   "metadata": {},
   "outputs": [],
   "source": [
    "%load_ext sql\n",
    "import urllib.parse\n",
    "\n",
    "username = 'postgres'\n",
    "password = urllib.parse.quote('YOUR_PASSWORD')\n",
    "host = 'localhost'\n",
    "port = 5432"
   ]
  },
  {
   "cell_type": "markdown",
   "id": "9d384232-f16c-4fa0-a2c1-82ca81d145e5",
   "metadata": {},
   "source": [
    "If everything is correct, the following code cell connects your notebook the your local Postgres instance:"
   ]
  },
  {
   "cell_type": "code",
   "execution_count": null,
   "id": "6304242f-1d4e-4dd4-81bb-9d90c284f269",
   "metadata": {},
   "outputs": [],
   "source": [
    "%sql postgresql://{username}:{password}@{host}:{port}/world"
   ]
  },
  {
   "cell_type": "markdown",
   "id": "b6aab110-db09-434e-a92b-9a44ab39b101",
   "metadata": {},
   "source": [
    "Here is a simple query for testing your connection:"
   ]
  },
  {
   "cell_type": "code",
   "execution_count": null,
   "id": "f1f1e5ce-abb1-4425-98a7-fb9fcc30598a",
   "metadata": {},
   "outputs": [],
   "source": [
    "%%sql\n",
    "\n",
    "SELECT\n",
    "    *\n",
    "FROM\n",
    "    country\n",
    "LIMIT\n",
    "    5\n",
    ";"
   ]
  }
 ],
 "metadata": {
  "kernelspec": {
   "display_name": "Python [conda env:ssc2022]",
   "language": "python",
   "name": "conda-env-ssc2022-py"
  },
  "language_info": {
   "codemirror_mode": {
    "name": "ipython",
    "version": 3
   },
   "file_extension": ".py",
   "mimetype": "text/x-python",
   "name": "python",
   "nbconvert_exporter": "python",
   "pygments_lexer": "ipython3",
   "version": "3.10.4"
  }
 },
 "nbformat": 4,
 "nbformat_minor": 5
}
